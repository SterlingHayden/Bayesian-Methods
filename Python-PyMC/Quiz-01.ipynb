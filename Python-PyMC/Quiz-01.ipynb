{
 "cells": [
  {
   "cell_type": "code",
   "execution_count": 22,
   "metadata": {},
   "outputs": [],
   "source": [
    "import pymc as pm\n",
    "import arviz as az\n",
    "import matplotlib.pyplot as plt\n",
    "import pandas as pd\n",
    "import numpy as np"
   ]
  },
  {
   "cell_type": "code",
   "execution_count": 23,
   "metadata": {},
   "outputs": [
    {
     "data": {
      "application/vnd.microsoft.datawrangler.viewer.v0+json": {
       "columns": [
        {
         "name": "index",
         "rawType": "int64",
         "type": "integer"
        },
        {
         "name": "UN",
         "rawType": "float64",
         "type": "float"
        },
        {
         "name": "m",
         "rawType": "float64",
         "type": "float"
        },
        {
         "name": "p",
         "rawType": "float64",
         "type": "float"
        },
        {
         "name": "G",
         "rawType": "float64",
         "type": "float"
        },
        {
         "name": "x",
         "rawType": "float64",
         "type": "float"
        }
       ],
       "conversionMethod": "pd.DataFrame",
       "ref": "b75a34e0-9c1d-4c23-9352-b45b2a7dd8e7",
       "rows": [
        [
         "0",
         "3.97",
         "3.92",
         "0.168",
         "16.364",
         "5.9"
        ],
        [
         "1",
         "5.419",
         "4.08",
         "0.166",
         "16.619",
         "6.3"
        ],
        [
         "2",
         "3.045",
         "4.43",
         "0.161",
         "16.93",
         "6.9"
        ],
        [
         "3",
         "11.684",
         "4.26",
         "0.163",
         "17.178",
         "6.3"
        ],
        [
         "4",
         "18.415",
         "4.28",
         "0.155",
         "17.364",
         "6.4"
        ],
        [
         "5",
         "13.703",
         "4.43",
         "0.153",
         "17.449",
         "6.0"
        ],
        [
         "6",
         "14.445",
         "4.35",
         "0.15",
         "17.656",
         "7.1"
        ],
        [
         "7",
         "14.543",
         "4.64",
         "0.15",
         "18.097",
         "7.6"
        ],
        [
         "8",
         "12.354",
         "5.26",
         "0.154",
         "19.412",
         "8.4"
        ],
        [
         "9",
         "6.536",
         "6.09",
         "0.159",
         "19.423",
         "8.5"
        ],
        [
         "10",
         "5.004",
         "6.6",
         "0.165",
         "19.412",
         "9.3"
        ],
        [
         "11",
         "4.133",
         "7.48",
         "0.165",
         "19.682",
         "9.5"
        ],
        [
         "12",
         "3.668",
         "8.17",
         "0.159",
         "20.045",
         "8.7"
        ],
        [
         "13",
         "3.922",
         "8.68",
         "0.171",
         "20.982",
         "9.2"
        ],
        [
         "14",
         "5.378",
         "9.24",
         "0.173",
         "20.967",
         "9.1"
        ],
        [
         "15",
         "4.276",
         "10.24",
         "0.177",
         "21.797",
         "9.9"
        ],
        [
         "16",
         "1.728",
         "11.08",
         "0.181",
         "22.016",
         "10.5"
        ],
        [
         "17",
         "2.764",
         "11.6",
         "0.188",
         "23.342",
         "10.8"
        ],
        [
         "18",
         "7.962",
         "11.44",
         "0.187",
         "24.99",
         "10.1"
        ],
        [
         "19",
         "5.106",
         "12.68",
         "0.185",
         "23.775",
         "10.2"
        ],
        [
         "20",
         "5.857",
         "13.34",
         "0.191",
         "24.297",
         "10.5"
        ],
        [
         "21",
         "6.719",
         "14.12",
         "0.187",
         "26.845",
         "11.8"
        ],
        [
         "22",
         "4.637",
         "15.13",
         "0.196",
         "26.853",
         "12.7"
        ],
        [
         "23",
         "4.321",
         "15.37",
         "0.195",
         "26.438",
         "13.1"
        ],
        [
         "24",
         "7.919",
         "16.39",
         "0.197",
         "27.819",
         "11.4"
        ],
        [
         "25",
         "8.528",
         "17.59",
         "0.207",
         "28.434",
         "17.0"
        ],
        [
         "26",
         "5.1",
         "20.85",
         "0.233",
         "27.39",
         "22.7"
        ],
        [
         "27",
         "4.617",
         "24.37",
         "0.287",
         "35.708",
         "21.7"
        ],
        [
         "28",
         "1.372",
         "26.73",
         "0.314",
         "71.005",
         "20.4"
        ],
        [
         "29",
         "1.375",
         "31.01",
         "0.37",
         "45.701",
         "25.4"
        ],
        [
         "30",
         "5.157",
         "34.8",
         "0.429",
         "30.438",
         "21.1"
        ],
        [
         "31",
         "11.715",
         "32.85",
         "0.35",
         "34.031",
         "14.2"
        ],
        [
         "32",
         "6.728",
         "33.72",
         "0.324",
         "33.416",
         "13.8"
        ],
        [
         "33",
         "2.415",
         "36.6",
         "0.337",
         "33.36",
         "14.7"
        ],
        [
         "34",
         "4.951",
         "38.58",
         "0.332",
         "35.408",
         "15.9"
        ],
        [
         "35",
         "3.217",
         "42.05",
         "0.339",
         "37.082",
         "16.7"
        ],
        [
         "36",
         "1.756",
         "43.68",
         "0.334",
         "37.116",
         "17.0"
        ],
        [
         "37",
         "3.275",
         "44.73",
         "0.325",
         "39.083",
         "17.6"
        ],
        [
         "38",
         "4.208",
         "46.42",
         "0.329",
         "40.242",
         "18.4"
        ],
        [
         "39",
         "3.246",
         "46.6",
         "0.328",
         "41.0",
         "21.372"
        ],
        [
         "40",
         "8.903",
         "45.73",
         "0.316",
         "44.8",
         "17.004"
        ],
        [
         "41",
         "15.653",
         "42.69",
         "0.289",
         "46.3",
         "12.465"
        ],
        [
         "42",
         "22.981",
         "36.05",
         "0.257",
         "44.3",
         "9.738"
        ],
        [
         "43",
         "20.901",
         "32.22",
         "0.251",
         "42.9",
         "9.553"
        ],
        [
         "44",
         "16.197",
         "34.36",
         "0.273",
         "48.4",
         "10.985"
        ],
        [
         "45",
         "14.389",
         "39.07",
         "0.279",
         "49.6",
         "11.834"
        ],
        [
         "46",
         "9.97",
         "43.48",
         "0.28",
         "57.9",
         "12.506"
        ],
        [
         "47",
         "9.182",
         "45.68",
         "0.293",
         "55.8",
         "16.039"
        ],
        [
         "48",
         "12.468",
         "45.81",
         "0.286",
         "60.7",
         "15.359"
        ],
        [
         "49",
         "11.273",
         "49.27",
         "0.284",
         "63.0",
         "16.184"
        ]
       ],
       "shape": {
        "columns": 5,
        "rows": 90
       }
      },
      "text/html": [
       "<div>\n",
       "<style scoped>\n",
       "    .dataframe tbody tr th:only-of-type {\n",
       "        vertical-align: middle;\n",
       "    }\n",
       "\n",
       "    .dataframe tbody tr th {\n",
       "        vertical-align: top;\n",
       "    }\n",
       "\n",
       "    .dataframe thead th {\n",
       "        text-align: right;\n",
       "    }\n",
       "</style>\n",
       "<table border=\"1\" class=\"dataframe\">\n",
       "  <thead>\n",
       "    <tr style=\"text-align: right;\">\n",
       "      <th></th>\n",
       "      <th>UN</th>\n",
       "      <th>m</th>\n",
       "      <th>p</th>\n",
       "      <th>G</th>\n",
       "      <th>x</th>\n",
       "    </tr>\n",
       "  </thead>\n",
       "  <tbody>\n",
       "    <tr>\n",
       "      <th>0</th>\n",
       "      <td>3.970</td>\n",
       "      <td>3.92</td>\n",
       "      <td>0.168</td>\n",
       "      <td>16.364</td>\n",
       "      <td>5.900</td>\n",
       "    </tr>\n",
       "    <tr>\n",
       "      <th>1</th>\n",
       "      <td>5.419</td>\n",
       "      <td>4.08</td>\n",
       "      <td>0.166</td>\n",
       "      <td>16.619</td>\n",
       "      <td>6.300</td>\n",
       "    </tr>\n",
       "    <tr>\n",
       "      <th>2</th>\n",
       "      <td>3.045</td>\n",
       "      <td>4.43</td>\n",
       "      <td>0.161</td>\n",
       "      <td>16.930</td>\n",
       "      <td>6.900</td>\n",
       "    </tr>\n",
       "    <tr>\n",
       "      <th>3</th>\n",
       "      <td>11.684</td>\n",
       "      <td>4.26</td>\n",
       "      <td>0.163</td>\n",
       "      <td>17.178</td>\n",
       "      <td>6.300</td>\n",
       "    </tr>\n",
       "    <tr>\n",
       "      <th>4</th>\n",
       "      <td>18.415</td>\n",
       "      <td>4.28</td>\n",
       "      <td>0.155</td>\n",
       "      <td>17.364</td>\n",
       "      <td>6.400</td>\n",
       "    </tr>\n",
       "    <tr>\n",
       "      <th>...</th>\n",
       "      <td>...</td>\n",
       "      <td>...</td>\n",
       "      <td>...</td>\n",
       "      <td>...</td>\n",
       "      <td>...</td>\n",
       "    </tr>\n",
       "    <tr>\n",
       "      <th>85</th>\n",
       "      <td>8.455</td>\n",
       "      <td>641.30</td>\n",
       "      <td>1.256</td>\n",
       "      <td>266.700</td>\n",
       "      <td>123.374</td>\n",
       "    </tr>\n",
       "    <tr>\n",
       "      <th>86</th>\n",
       "      <td>7.690</td>\n",
       "      <td>704.60</td>\n",
       "      <td>1.321</td>\n",
       "      <td>266.800</td>\n",
       "      <td>129.359</td>\n",
       "    </tr>\n",
       "    <tr>\n",
       "      <th>87</th>\n",
       "      <td>7.038</td>\n",
       "      <td>779.70</td>\n",
       "      <td>1.398</td>\n",
       "      <td>272.300</td>\n",
       "      <td>131.091</td>\n",
       "    </tr>\n",
       "    <tr>\n",
       "      <th>88</th>\n",
       "      <td>6.022</td>\n",
       "      <td>846.70</td>\n",
       "      <td>1.501</td>\n",
       "      <td>277.800</td>\n",
       "      <td>146.482</td>\n",
       "    </tr>\n",
       "    <tr>\n",
       "      <th>89</th>\n",
       "      <td>5.794</td>\n",
       "      <td>914.40</td>\n",
       "      <td>1.628</td>\n",
       "      <td>281.800</td>\n",
       "      <td>172.819</td>\n",
       "    </tr>\n",
       "  </tbody>\n",
       "</table>\n",
       "<p>90 rows × 5 columns</p>\n",
       "</div>"
      ],
      "text/plain": [
       "        UN       m      p        G        x\n",
       "0    3.970    3.92  0.168   16.364    5.900\n",
       "1    5.419    4.08  0.166   16.619    6.300\n",
       "2    3.045    4.43  0.161   16.930    6.900\n",
       "3   11.684    4.26  0.163   17.178    6.300\n",
       "4   18.415    4.28  0.155   17.364    6.400\n",
       "..     ...     ...    ...      ...      ...\n",
       "85   8.455  641.30  1.256  266.700  123.374\n",
       "86   7.690  704.60  1.321  266.800  129.359\n",
       "87   7.038  779.70  1.398  272.300  131.091\n",
       "88   6.022  846.70  1.501  277.800  146.482\n",
       "89   5.794  914.40  1.628  281.800  172.819\n",
       "\n",
       "[90 rows x 5 columns]"
      ]
     },
     "execution_count": 23,
     "metadata": {},
     "output_type": "execute_result"
    }
   ],
   "source": [
    "df = pd.read_csv('unemployment.csv')\n",
    "df"
   ]
  },
  {
   "cell_type": "code",
   "execution_count": 24,
   "metadata": {},
   "outputs": [
    {
     "name": "stderr",
     "output_type": "stream",
     "text": [
      "Initializing NUTS using jitter+adapt_diag...\n",
      "Multiprocess sampling (4 chains in 4 jobs)\n",
      "NUTS: [mu, tau2]\n"
     ]
    },
    {
     "data": {
      "application/vnd.jupyter.widget-view+json": {
       "model_id": "72b68e2385a749b69d25bef6b6d911ee",
       "version_major": 2,
       "version_minor": 0
      },
      "text/plain": [
       "Output()"
      ]
     },
     "metadata": {},
     "output_type": "display_data"
    },
    {
     "data": {
      "text/html": [
       "<pre style=\"white-space:pre;overflow-x:auto;line-height:normal;font-family:Menlo,'DejaVu Sans Mono',consolas,'Courier New',monospace\"></pre>\n"
      ],
      "text/plain": []
     },
     "metadata": {},
     "output_type": "display_data"
    },
    {
     "name": "stderr",
     "output_type": "stream",
     "text": [
      "Sampling 4 chains for 1_000 tune and 2_000 draw iterations (4_000 + 8_000 draws total) took 57 seconds.\n"
     ]
    }
   ],
   "source": [
    "# Model\n",
    "with pm.Model() as model:\n",
    "    # prior \n",
    "    mu = pm.Normal(\"mu\", 0, 1000)\n",
    "    tau2 = pm.ChiSquared(\"tau2\", 89)\n",
    "\n",
    "    # update priors\n",
    "    y_obs = pm.LogNormal(\"y_obs\", mu, pm.math.sqrt(tau2), observed=df.UN)\n",
    "    trace = pm.sample(2000, return_inferencedata=True, random_seed=10678)"
   ]
  },
  {
   "cell_type": "code",
   "execution_count": 25,
   "metadata": {},
   "outputs": [
    {
     "data": {
      "application/vnd.microsoft.datawrangler.viewer.v0+json": {
       "columns": [
        {
         "name": "index",
         "rawType": "object",
         "type": "string"
        },
        {
         "name": "mean",
         "rawType": "float64",
         "type": "float"
        },
        {
         "name": "sd",
         "rawType": "float64",
         "type": "float"
        },
        {
         "name": "hdi_2.5%",
         "rawType": "float64",
         "type": "float"
        },
        {
         "name": "hdi_97.5%",
         "rawType": "float64",
         "type": "float"
        },
        {
         "name": "mcse_mean",
         "rawType": "float64",
         "type": "float"
        },
        {
         "name": "mcse_sd",
         "rawType": "float64",
         "type": "float"
        },
        {
         "name": "ess_bulk",
         "rawType": "float64",
         "type": "float"
        },
        {
         "name": "ess_tail",
         "rawType": "float64",
         "type": "float"
        },
        {
         "name": "r_hat",
         "rawType": "float64",
         "type": "float"
        }
       ],
       "conversionMethod": "pd.DataFrame",
       "ref": "af08e8f3-4cf5-47a1-bf07-fe15df88b75a",
       "rows": [
        [
         "mu",
         "1.679",
         "0.264",
         "1.155",
         "2.197",
         "0.003",
         "0.003",
         "6250.0",
         "4978.0",
         "1.0"
        ],
        [
         "tau2",
         "6.245",
         "2.604",
         "2.266",
         "11.569",
         "0.035",
         "0.042",
         "5516.0",
         "4765.0",
         "1.0"
        ]
       ],
       "shape": {
        "columns": 9,
        "rows": 2
       }
      },
      "text/html": [
       "<div>\n",
       "<style scoped>\n",
       "    .dataframe tbody tr th:only-of-type {\n",
       "        vertical-align: middle;\n",
       "    }\n",
       "\n",
       "    .dataframe tbody tr th {\n",
       "        vertical-align: top;\n",
       "    }\n",
       "\n",
       "    .dataframe thead th {\n",
       "        text-align: right;\n",
       "    }\n",
       "</style>\n",
       "<table border=\"1\" class=\"dataframe\">\n",
       "  <thead>\n",
       "    <tr style=\"text-align: right;\">\n",
       "      <th></th>\n",
       "      <th>mean</th>\n",
       "      <th>sd</th>\n",
       "      <th>hdi_2.5%</th>\n",
       "      <th>hdi_97.5%</th>\n",
       "      <th>mcse_mean</th>\n",
       "      <th>mcse_sd</th>\n",
       "      <th>ess_bulk</th>\n",
       "      <th>ess_tail</th>\n",
       "      <th>r_hat</th>\n",
       "    </tr>\n",
       "  </thead>\n",
       "  <tbody>\n",
       "    <tr>\n",
       "      <th>mu</th>\n",
       "      <td>1.679</td>\n",
       "      <td>0.264</td>\n",
       "      <td>1.155</td>\n",
       "      <td>2.197</td>\n",
       "      <td>0.003</td>\n",
       "      <td>0.003</td>\n",
       "      <td>6250.0</td>\n",
       "      <td>4978.0</td>\n",
       "      <td>1.0</td>\n",
       "    </tr>\n",
       "    <tr>\n",
       "      <th>tau2</th>\n",
       "      <td>6.245</td>\n",
       "      <td>2.604</td>\n",
       "      <td>2.266</td>\n",
       "      <td>11.569</td>\n",
       "      <td>0.035</td>\n",
       "      <td>0.042</td>\n",
       "      <td>5516.0</td>\n",
       "      <td>4765.0</td>\n",
       "      <td>1.0</td>\n",
       "    </tr>\n",
       "  </tbody>\n",
       "</table>\n",
       "</div>"
      ],
      "text/plain": [
       "       mean     sd  hdi_2.5%  hdi_97.5%  mcse_mean  mcse_sd  ess_bulk  \\\n",
       "mu    1.679  0.264     1.155      2.197      0.003    0.003    6250.0   \n",
       "tau2  6.245  2.604     2.266     11.569      0.035    0.042    5516.0   \n",
       "\n",
       "      ess_tail  r_hat  \n",
       "mu      4978.0    1.0  \n",
       "tau2    4765.0    1.0  "
      ]
     },
     "execution_count": 25,
     "metadata": {},
     "output_type": "execute_result"
    }
   ],
   "source": [
    "az.summary(trace,hdi_prob=0.95)"
   ]
  },
  {
   "cell_type": "markdown",
   "metadata": {},
   "source": [
    "Find the probability that the parameter mu is larger than 3.4 [P(mu>3.4)]."
   ]
  },
  {
   "cell_type": "code",
   "execution_count": 26,
   "metadata": {},
   "outputs": [
    {
     "name": "stdout",
     "output_type": "stream",
     "text": [
      "Probability that mu <= 3.4: 0.0000\n"
     ]
    }
   ],
   "source": [
    "prob_p_leq_0_3 = np.mean(trace.posterior[\"mu\"].values.flatten() > 3.4)\n",
    "print(f\"Probability that mu <= 3.4: {prob_p_leq_0_3:.4f}\")"
   ]
  }
 ],
 "metadata": {
  "kernelspec": {
   "display_name": "pymc_env",
   "language": "python",
   "name": "python3"
  },
  "language_info": {
   "codemirror_mode": {
    "name": "ipython",
    "version": 3
   },
   "file_extension": ".py",
   "mimetype": "text/x-python",
   "name": "python",
   "nbconvert_exporter": "python",
   "pygments_lexer": "ipython3",
   "version": "3.13.2"
  }
 },
 "nbformat": 4,
 "nbformat_minor": 2
}
