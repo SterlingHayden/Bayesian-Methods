{
 "cells": [
  {
   "cell_type": "code",
   "execution_count": 19,
   "metadata": {},
   "outputs": [],
   "source": [
    "import pandas as pd\n",
    "import yfinance as yf\n",
    "import pymc as pm\n",
    "import arviz as az\n",
    "import math\n",
    "import scipy.stats as stats\n",
    "from scipy.stats import norm\n",
    "import numpy as np"
   ]
  },
  {
   "cell_type": "markdown",
   "metadata": {},
   "source": [
    "## Grab Data"
   ]
  },
  {
   "cell_type": "code",
   "execution_count": null,
   "metadata": {},
   "outputs": [
    {
     "name": "stderr",
     "output_type": "stream",
     "text": [
      "[*********************100%***********************]  1 of 1 completed\n"
     ]
    }
   ],
   "source": [
    "# Download stock data\n",
    "data = yf.download('AAPL', start='2024-01-01')\n",
    "\n",
    "# Calculate returns\n",
    "data['aapl_r'] = data['Close'].pct_change()\n",
    "\n",
    "# Select last 200 rows of Close and aapl_r columns\n",
    "stocks = data[['Close', 'aapl_r']].tail(200)\n",
    "\n",
    "# Define the data\n",
    "n = len(stocks)\n",
    "y = stocks['aapl_r'].values"
   ]
  },
  {
   "cell_type": "markdown",
   "metadata": {},
   "source": [
    "## Model"
   ]
  },
  {
   "cell_type": "code",
   "execution_count": 12,
   "metadata": {},
   "outputs": [
    {
     "name": "stderr",
     "output_type": "stream",
     "text": [
      "Initializing NUTS using jitter+adapt_diag...\n",
      "Multiprocess sampling (4 chains in 4 jobs)\n",
      "NUTS: [mu, sigma2]\n"
     ]
    },
    {
     "data": {
      "application/vnd.jupyter.widget-view+json": {
       "model_id": "8fde20e369fe489eacf666ba84477cfa",
       "version_major": 2,
       "version_minor": 0
      },
      "text/plain": [
       "Output()"
      ]
     },
     "metadata": {},
     "output_type": "display_data"
    },
    {
     "data": {
      "text/html": [
       "<pre style=\"white-space:pre;overflow-x:auto;line-height:normal;font-family:Menlo,'DejaVu Sans Mono',consolas,'Courier New',monospace\"></pre>\n"
      ],
      "text/plain": []
     },
     "metadata": {},
     "output_type": "display_data"
    },
    {
     "name": "stderr",
     "output_type": "stream",
     "text": [
      "Sampling 4 chains for 500 tune and 1_000 draw iterations (2_000 + 4_000 draws total) took 20 seconds.\n"
     ]
    },
    {
     "data": {
      "application/vnd.microsoft.datawrangler.viewer.v0+json": {
       "columns": [
        {
         "name": "index",
         "rawType": "object",
         "type": "string"
        },
        {
         "name": "mean",
         "rawType": "float64",
         "type": "float"
        },
        {
         "name": "sd",
         "rawType": "float64",
         "type": "float"
        },
        {
         "name": "hdi_3%",
         "rawType": "float64",
         "type": "float"
        },
        {
         "name": "hdi_97%",
         "rawType": "float64",
         "type": "float"
        },
        {
         "name": "mcse_mean",
         "rawType": "float64",
         "type": "float"
        },
        {
         "name": "mcse_sd",
         "rawType": "float64",
         "type": "float"
        },
        {
         "name": "ess_bulk",
         "rawType": "float64",
         "type": "float"
        },
        {
         "name": "ess_tail",
         "rawType": "float64",
         "type": "float"
        },
        {
         "name": "r_hat",
         "rawType": "float64",
         "type": "float"
        }
       ],
       "conversionMethod": "pd.DataFrame",
       "ref": "16af5d28-f65d-414a-a594-cf2276902582",
       "rows": [
        [
         "mu",
         "0.001",
         "0.001",
         "-0.001",
         "0.003",
         "0.0",
         "0.0",
         "3847.0",
         "2802.0",
         "1.0"
        ],
        [
         "sigma2",
         "0.0",
         "0.0",
         "0.0",
         "0.0",
         "0.0",
         "0.0",
         "4329.0",
         "2587.0",
         "1.0"
        ]
       ],
       "shape": {
        "columns": 9,
        "rows": 2
       }
      },
      "text/html": [
       "<div>\n",
       "<style scoped>\n",
       "    .dataframe tbody tr th:only-of-type {\n",
       "        vertical-align: middle;\n",
       "    }\n",
       "\n",
       "    .dataframe tbody tr th {\n",
       "        vertical-align: top;\n",
       "    }\n",
       "\n",
       "    .dataframe thead th {\n",
       "        text-align: right;\n",
       "    }\n",
       "</style>\n",
       "<table border=\"1\" class=\"dataframe\">\n",
       "  <thead>\n",
       "    <tr style=\"text-align: right;\">\n",
       "      <th></th>\n",
       "      <th>mean</th>\n",
       "      <th>sd</th>\n",
       "      <th>hdi_3%</th>\n",
       "      <th>hdi_97%</th>\n",
       "      <th>mcse_mean</th>\n",
       "      <th>mcse_sd</th>\n",
       "      <th>ess_bulk</th>\n",
       "      <th>ess_tail</th>\n",
       "      <th>r_hat</th>\n",
       "    </tr>\n",
       "  </thead>\n",
       "  <tbody>\n",
       "    <tr>\n",
       "      <th>mu</th>\n",
       "      <td>0.001</td>\n",
       "      <td>0.001</td>\n",
       "      <td>-0.001</td>\n",
       "      <td>0.003</td>\n",
       "      <td>0.0</td>\n",
       "      <td>0.0</td>\n",
       "      <td>3847.0</td>\n",
       "      <td>2802.0</td>\n",
       "      <td>1.0</td>\n",
       "    </tr>\n",
       "    <tr>\n",
       "      <th>sigma2</th>\n",
       "      <td>0.000</td>\n",
       "      <td>0.000</td>\n",
       "      <td>0.000</td>\n",
       "      <td>0.000</td>\n",
       "      <td>0.0</td>\n",
       "      <td>0.0</td>\n",
       "      <td>4329.0</td>\n",
       "      <td>2587.0</td>\n",
       "      <td>1.0</td>\n",
       "    </tr>\n",
       "  </tbody>\n",
       "</table>\n",
       "</div>"
      ],
      "text/plain": [
       "         mean     sd  hdi_3%  hdi_97%  mcse_mean  mcse_sd  ess_bulk  ess_tail  \\\n",
       "mu      0.001  0.001  -0.001    0.003        0.0      0.0    3847.0    2802.0   \n",
       "sigma2  0.000  0.000   0.000    0.000        0.0      0.0    4329.0    2587.0   \n",
       "\n",
       "        r_hat  \n",
       "mu        1.0  \n",
       "sigma2    1.0  "
      ]
     },
     "execution_count": 12,
     "metadata": {},
     "output_type": "execute_result"
    }
   ],
   "source": [
    "# Define the PyMC model\n",
    "with pm.Model() as model:\n",
    "    # Priors\n",
    "    mu = pm.Normal('mu', mu=0, sigma=100)\n",
    "    sigma2 = pm.InverseGamma('sigma2', alpha=0.001, beta=0.001)\n",
    "    # Likelihood\n",
    "    y_lik = pm.Normal('y_lik', mu=mu, sigma=pm.math.sqrt(sigma2), observed=y)\n",
    "    # Sample posterior\n",
    "    trace = pm.sample(1000, tune=500)\n",
    "\n",
    "az.summary(trace)"
   ]
  },
  {
   "cell_type": "markdown",
   "metadata": {},
   "source": [
    "## Using the posterior distribution for the VaR0.01, find the posterior mean and a 95% probability interval for this quantity (using quantiles of the posterior distribution...not hdi)."
   ]
  },
  {
   "cell_type": "code",
   "execution_count": 20,
   "metadata": {},
   "outputs": [
    {
     "name": "stdout",
     "output_type": "stream",
     "text": [
      "Posterior mean of VaR_0.01: -0.0363\n",
      "95% probability interval: [-0.0408, -0.0322]\n"
     ]
    }
   ],
   "source": [
    "# Compute z-score for 1% quantile\n",
    "z_01 = norm.ppf(0.01)  # ≈ -2.33\n",
    "\n",
    "# Extract posterior samples\n",
    "posterior = az.extract(trace)\n",
    "mu_samples = posterior[\"mu\"]\n",
    "sigma_samples = np.sqrt(posterior[\"sigma2\"])\n",
    "\n",
    "# Compute VaR_0.01\n",
    "var_01_samples = mu_samples + z_01 * sigma_samples\n",
    "\n",
    "# Compute mean and 95% probability interval\n",
    "var_01_mean = var_01_samples.mean()\n",
    "var_01_interval = np.quantile(var_01_samples, [0.025, 0.975])\n",
    "\n",
    "# Print results\n",
    "print(f\"Posterior mean of VaR_0.01: {var_01_mean:.4f}\")\n",
    "print(f\"95% probability interval: [{var_01_interval[0]:.4f}, {var_01_interval[1]:.4f}]\")"
   ]
  },
  {
   "cell_type": "markdown",
   "metadata": {},
   "source": [
    "## Let's say you have 1000 shares of Apple stock.  Using your VaR posterior distribution for ROC, what is the mean of the posterior distribution for the VaR for the value of the portfolio tomorrow. "
   ]
  },
  {
   "cell_type": "code",
   "execution_count": 35,
   "metadata": {},
   "outputs": [
    {
     "data": {
      "text/plain": [
       "Ticker\n",
       "AAPL   -7783.173213\n",
       "Name: 2025-03-17 00:00:00, dtype: float64"
      ]
     },
     "execution_count": 35,
     "metadata": {},
     "output_type": "execute_result"
    }
   ],
   "source": [
    "stocks['Close'].iloc[-1] * 1000 * float(var_01_mean)"
   ]
  },
  {
   "cell_type": "markdown",
   "metadata": {},
   "source": [
    "## From the previous question, find a 95% probability interval for the VaR0.01 for the value of this portfolio."
   ]
  },
  {
   "cell_type": "code",
   "execution_count": 38,
   "metadata": {},
   "outputs": [
    {
     "name": "stdout",
     "output_type": "stream",
     "text": [
      "Ticker\n",
      "AAPL   -8748.477544\n",
      "Name: 2025-03-17 00:00:00, dtype: float64\n",
      "Ticker\n",
      "AAPL   -6905.00998\n",
      "Name: 2025-03-17 00:00:00, dtype: float64\n"
     ]
    }
   ],
   "source": [
    "# lowwer bound\n",
    "print(stocks['Close'].iloc[-1] * 1000 * float(var_01_interval[0]))\n",
    "\n",
    "#upper bound\n",
    "print(stocks['Close'].iloc[-1] * 1000 * float(var_01_interval[1]))"
   ]
  }
 ],
 "metadata": {
  "kernelspec": {
   "display_name": "pymc_env",
   "language": "python",
   "name": "python3"
  },
  "language_info": {
   "codemirror_mode": {
    "name": "ipython",
    "version": 3
   },
   "file_extension": ".py",
   "mimetype": "text/x-python",
   "name": "python",
   "nbconvert_exporter": "python",
   "pygments_lexer": "ipython3",
   "version": "3.13.2"
  }
 },
 "nbformat": 4,
 "nbformat_minor": 2
}
